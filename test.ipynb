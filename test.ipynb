{
 "cells": [
  {
   "cell_type": "code",
   "execution_count": 2,
   "metadata": {},
   "outputs": [],
   "source": [
    "import os\n",
    "import numpy as np\n",
    "import matplotlib.pyplot as plt"
   ]
  },
  {
   "cell_type": "code",
   "execution_count": 10,
   "metadata": {},
   "outputs": [],
   "source": [
    "def append_array_to_txt(filename, array, delimiter=',', fmt='%.2f'):\n",
    "    \n",
    "    with open(filename, 'a') as f:\n",
    "        np.savetxt(f, array, fmt=fmt, delimiter=delimiter)"
   ]
  },
  {
   "cell_type": "code",
   "execution_count": 3,
   "metadata": {},
   "outputs": [],
   "source": [
    "for n in range(0,18):\n",
    "    for j in range(0,18):\n",
    "        folder_path = f'Data_sets/智能（光电翰林哥数据）/{2*n+1}-{2*j+1}'\n",
    "        file_list = sorted([f for f in os.listdir(folder_path) if f.endswith(\".dat\")])\n",
    "        for i, filename in enumerate(file_list):\n",
    "            # 构造完整的文件路径\n",
    "            file_path = os.path.join(folder_path, filename)\n",
    "            open_file = open(file_path, 'r')\n",
    "            lines = open_file.readlines()\n",
    "            data = np.zeros((2,2000))\n",
    "            for i in range(2000):\n",
    "                data[0,i] , data[1,i] = lines[i+2].split('\\t')[1:3]\n",
    "            append_array_to_txt('data.txt', data)\n"
   ]
  },
  {
   "cell_type": "code",
   "execution_count": 11,
   "metadata": {},
   "outputs": [],
   "source": [
    "for i in range(324):\n",
    "    data_y = np.zeros((12,2))\n",
    "    for j in range(1,13):\n",
    "        data_y[j-1,:] = [i+1,j]\n",
    "    append_array_to_txt('data_y.txt', data_y)"
   ]
  },
  {
   "cell_type": "code",
   "execution_count": 6,
   "metadata": {},
   "outputs": [
    {
     "data": {
      "text/plain": [
       "array([[1., 2.],\n",
       "       [0., 0.],\n",
       "       [0., 0.],\n",
       "       [0., 0.],\n",
       "       [0., 0.],\n",
       "       [0., 0.],\n",
       "       [0., 0.],\n",
       "       [0., 0.],\n",
       "       [0., 0.],\n",
       "       [0., 0.],\n",
       "       [0., 0.],\n",
       "       [0., 0.]])"
      ]
     },
     "execution_count": 6,
     "metadata": {},
     "output_type": "execute_result"
    }
   ],
   "source": [
    "data_y = np.zeros((12,2))\n",
    "data_y[0,:] = [1,2]\n",
    "data_y\n"
   ]
  },
  {
   "cell_type": "code",
   "execution_count": null,
   "metadata": {},
   "outputs": [],
   "source": []
  },
  {
   "cell_type": "code",
   "execution_count": null,
   "metadata": {},
   "outputs": [],
   "source": [
    "\n",
    "for i, filename in enumerate(file_list):\n",
    "    # 构造完整的文件路径\n",
    "    file_path = os.path.join(folder_path, filename)\n",
    "    open_file = open(file_path, 'r')\n",
    "    lines = open_file.readlines()\n",
    "    data = np.zeros((2,2000))\n",
    "    for i in range(2000):\n",
    "        data[0,i] , data[1,i] = lines[i+2].split('\\t')[1:3]\n",
    "    \n"
   ]
  },
  {
   "cell_type": "code",
   "execution_count": 40,
   "metadata": {},
   "outputs": [
    {
     "name": "stdout",
     "output_type": "stream",
     "text": [
      "[[3.00000000e+00 1.11022302e-16]\n",
      " [0.00000000e+00 2.00000000e+00]]\n",
      "[[0.11111111 0.11111111]\n",
      " [0.         0.1       ]]\n",
      "[[  9 -10]\n",
      " [  0  10]]\n"
     ]
    }
   ],
   "source": [
    "A = np.array([[3,1],\n",
    "              [0,2]])\n",
    "A.dot(np.array([[-1],\n",
    "                [1]]))\n",
    "B = np.array([[9, -10], \n",
    "              [0, 10]])\n",
    "B_inv = np.linalg.inv(B)\n",
    "print(f'{B_inv @ A @ B}')\n",
    "print(B_inv)\n",
    "print(B)"
   ]
  },
  {
   "cell_type": "code",
   "execution_count": 18,
   "metadata": {},
   "outputs": [
    {
     "data": {
      "text/plain": [
       "array([[-1],\n",
       "       [ 1]])"
      ]
     },
     "execution_count": 18,
     "metadata": {},
     "output_type": "execute_result"
    }
   ],
   "source": []
  },
  {
   "cell_type": "code",
   "execution_count": 16,
   "metadata": {},
   "outputs": [
    {
     "name": "stdout",
     "output_type": "stream",
     "text": [
      "7.2.2\n"
     ]
    }
   ],
   "source": []
  },
  {
   "cell_type": "code",
   "execution_count": 25,
   "metadata": {},
   "outputs": [
    {
     "data": {
      "text/plain": [
       "EigResult(eigenvalues=array([3., 2.]), eigenvectors=array([[ 1.        , -0.70710678],\n",
       "       [ 0.        ,  0.70710678]]))"
      ]
     },
     "execution_count": 25,
     "metadata": {},
     "output_type": "execute_result"
    }
   ],
   "source": []
  },
  {
   "cell_type": "code",
   "execution_count": null,
   "metadata": {},
   "outputs": [],
   "source": []
  }
 ],
 "metadata": {
  "kernelspec": {
   "display_name": "PyTorch",
   "language": "python",
   "name": "python3"
  },
  "language_info": {
   "codemirror_mode": {
    "name": "ipython",
    "version": 3
   },
   "file_extension": ".py",
   "mimetype": "text/x-python",
   "name": "python",
   "nbconvert_exporter": "python",
   "pygments_lexer": "ipython3",
   "version": "3.10.13"
  }
 },
 "nbformat": 4,
 "nbformat_minor": 2
}
